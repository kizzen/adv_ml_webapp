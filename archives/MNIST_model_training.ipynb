{
 "cells": [
  {
   "cell_type": "code",
   "execution_count": 21,
   "metadata": {
    "scrolled": true
   },
   "outputs": [
    {
     "name": "stdout",
     "output_type": "stream",
     "text": [
      "Requirement already satisfied: tensorflow==1.14 in /Users/khalilezzine/opt/anaconda3/envs/adv_ml_env/lib/python3.6/site-packages (1.14.0)\n",
      "Requirement already satisfied: tensorflow-estimator<1.15.0rc0,>=1.14.0rc0 in /Users/khalilezzine/opt/anaconda3/envs/adv_ml_env/lib/python3.6/site-packages (from tensorflow==1.14) (1.14.0)\n",
      "Requirement already satisfied: six>=1.10.0 in /Users/khalilezzine/opt/anaconda3/envs/adv_ml_env/lib/python3.6/site-packages (from tensorflow==1.14) (1.14.0)\n",
      "Requirement already satisfied: gast>=0.2.0 in /Users/khalilezzine/opt/anaconda3/envs/adv_ml_env/lib/python3.6/site-packages (from tensorflow==1.14) (0.3.3)\n",
      "Requirement already satisfied: astor>=0.6.0 in /Users/khalilezzine/opt/anaconda3/envs/adv_ml_env/lib/python3.6/site-packages (from tensorflow==1.14) (0.7.1)\n",
      "Requirement already satisfied: absl-py>=0.7.0 in /Users/khalilezzine/opt/anaconda3/envs/adv_ml_env/lib/python3.6/site-packages (from tensorflow==1.14) (0.9.0)\n",
      "Requirement already satisfied: wrapt>=1.11.1 in /Users/khalilezzine/opt/anaconda3/envs/adv_ml_env/lib/python3.6/site-packages (from tensorflow==1.14) (1.12.1)\n",
      "Requirement already satisfied: google-pasta>=0.1.6 in /Users/khalilezzine/opt/anaconda3/envs/adv_ml_env/lib/python3.6/site-packages (from tensorflow==1.14) (0.2.0)\n",
      "Requirement already satisfied: protobuf>=3.6.1 in /Users/khalilezzine/opt/anaconda3/envs/adv_ml_env/lib/python3.6/site-packages (from tensorflow==1.14) (3.11.4)\n",
      "Requirement already satisfied: numpy<2.0,>=1.14.5 in /Users/khalilezzine/opt/anaconda3/envs/adv_ml_env/lib/python3.6/site-packages (from tensorflow==1.14) (1.18.1)\n",
      "Requirement already satisfied: termcolor>=1.1.0 in /Users/khalilezzine/opt/anaconda3/envs/adv_ml_env/lib/python3.6/site-packages (from tensorflow==1.14) (1.1.0)\n",
      "Requirement already satisfied: wheel>=0.26 in /Users/khalilezzine/opt/anaconda3/envs/adv_ml_env/lib/python3.6/site-packages (from tensorflow==1.14) (0.34.2)\n",
      "Requirement already satisfied: keras-preprocessing>=1.0.5 in /Users/khalilezzine/opt/anaconda3/envs/adv_ml_env/lib/python3.6/site-packages (from tensorflow==1.14) (1.1.0)\n",
      "Requirement already satisfied: tensorboard<1.15.0,>=1.14.0 in /Users/khalilezzine/opt/anaconda3/envs/adv_ml_env/lib/python3.6/site-packages (from tensorflow==1.14) (1.14.0)\n",
      "Requirement already satisfied: keras-applications>=1.0.6 in /Users/khalilezzine/opt/anaconda3/envs/adv_ml_env/lib/python3.6/site-packages (from tensorflow==1.14) (1.0.8)\n",
      "Requirement already satisfied: grpcio>=1.8.6 in /Users/khalilezzine/opt/anaconda3/envs/adv_ml_env/lib/python3.6/site-packages (from tensorflow==1.14) (1.23.0)\n",
      "Requirement already satisfied: setuptools in /Users/khalilezzine/opt/anaconda3/envs/adv_ml_env/lib/python3.6/site-packages (from protobuf>=3.6.1->tensorflow==1.14) (46.0.0.post20200311)\n",
      "Requirement already satisfied: markdown>=2.6.8 in /Users/khalilezzine/opt/anaconda3/envs/adv_ml_env/lib/python3.6/site-packages (from tensorboard<1.15.0,>=1.14.0->tensorflow==1.14) (3.2.1)\n",
      "Requirement already satisfied: werkzeug>=0.11.15 in /Users/khalilezzine/opt/anaconda3/envs/adv_ml_env/lib/python3.6/site-packages (from tensorboard<1.15.0,>=1.14.0->tensorflow==1.14) (1.0.0)\n",
      "Requirement already satisfied: h5py in /Users/khalilezzine/opt/anaconda3/envs/adv_ml_env/lib/python3.6/site-packages (from keras-applications>=1.0.6->tensorflow==1.14) (2.10.0)\n",
      "Requirement already satisfied: keras==2.2.5 in /Users/khalilezzine/opt/anaconda3/envs/adv_ml_env/lib/python3.6/site-packages (2.2.5)\n",
      "Requirement already satisfied: numpy>=1.9.1 in /Users/khalilezzine/opt/anaconda3/envs/adv_ml_env/lib/python3.6/site-packages (from keras==2.2.5) (1.18.1)\n",
      "Requirement already satisfied: six>=1.9.0 in /Users/khalilezzine/opt/anaconda3/envs/adv_ml_env/lib/python3.6/site-packages (from keras==2.2.5) (1.14.0)\n",
      "Requirement already satisfied: h5py in /Users/khalilezzine/opt/anaconda3/envs/adv_ml_env/lib/python3.6/site-packages (from keras==2.2.5) (2.10.0)\n",
      "Requirement already satisfied: keras-applications>=1.0.8 in /Users/khalilezzine/opt/anaconda3/envs/adv_ml_env/lib/python3.6/site-packages (from keras==2.2.5) (1.0.8)\n",
      "Requirement already satisfied: pyyaml in /Users/khalilezzine/opt/anaconda3/envs/adv_ml_env/lib/python3.6/site-packages (from keras==2.2.5) (5.3.1)\n",
      "Requirement already satisfied: scipy>=0.14 in /Users/khalilezzine/opt/anaconda3/envs/adv_ml_env/lib/python3.6/site-packages (from keras==2.2.5) (1.4.1)\n",
      "Requirement already satisfied: keras-preprocessing>=1.1.0 in /Users/khalilezzine/opt/anaconda3/envs/adv_ml_env/lib/python3.6/site-packages (from keras==2.2.5) (1.1.0)\n"
     ]
    }
   ],
   "source": [
    "!pip install tensorflow==1.14\n",
    "!pip install keras==2.2.5\n",
    "\n",
    "from art.attacks import DeepFool, FastGradientMethod, CarliniL2Method, SaliencyMapMethod, BasicIterativeMethod\n",
    "from art.classifiers import KerasClassifier\n",
    "import foolbox\n",
    "from foolbox.attacks import FGSM\n",
    "from foolbox.criteria import Misclassification\n",
    "\n",
    "import numpy as np\n",
    "import tensorflow as tf\n",
    "import keras\n",
    "from keras.datasets import mnist\n",
    "from keras.models import model_from_json\n",
    "from keras.models import Sequential\n",
    "from keras.layers import Dense, Dropout, Flatten, Activation, Flatten\n",
    "from keras.layers import Conv2D, MaxPooling2D\n",
    "from keras.optimizers import SGD"
   ]
  },
  {
   "cell_type": "code",
   "execution_count": 22,
   "metadata": {},
   "outputs": [],
   "source": [
    "# hyperparam tuning\n",
    "img_rows, img_cols = 28, 28 # image dimensions\n",
    "channels=1 # channel for black and white\n",
    "num_classes = 10 # 0 through 9 digits as class\n",
    "params = [32, 32, 64, 64, 200, 200] # parameter for the CNN\n",
    "batch_size = 128 # batch size\n",
    "\n",
    "# loading mnist data from keras\n",
    "# load and split data between test and train set\n",
    "(x_train, y_train), (x_test, y_test) = mnist.load_data()\n",
    "\n",
    "# data transformation for model\n",
    "from keras import backend as K\n",
    "if K.image_data_format() == 'channels_first':\n",
    "    x_train = x_train.reshape(x_train.shape[0], 1, img_rows, img_cols)\n",
    "    x_test = x_test.reshape(x_test.shape[0], 1, img_rows, img_cols)\n",
    "    input_shape = (1, img_rows, img_cols)\n",
    "else:\n",
    "    x_train = x_train.reshape(x_train.shape[0], img_rows, img_cols, 1)\n",
    "    x_test = x_test.reshape(x_test.shape[0], img_rows, img_cols, 1)\n",
    "    input_shape = (img_rows, img_cols, 1)\n",
    "\n",
    "x_train = x_train.astype('float32')\n",
    "x_test = x_test.astype('float32')\n",
    "x_train /= 255\n",
    "x_test /= 255\n",
    "\n",
    "# convert class vectors to binary class matrices\n",
    "y_train = keras.utils.to_categorical(y_train, num_classes)\n",
    "y_test = keras.utils.to_categorical(y_test, num_classes)"
   ]
  },
  {
   "cell_type": "code",
   "execution_count": 25,
   "metadata": {},
   "outputs": [],
   "source": [
    "# function to train CNN model\n",
    "def train(filename,filename_weights,filename_archi,params,epochs=50,\n",
    "          batch_size=128,train_temp=1,init=None):\n",
    "\n",
    "    # build CNN model\n",
    "    model = Sequential()\n",
    "    model.add(Conv2D(params[0], (3, 3),input_shape=(img_rows, img_cols,channels)))\n",
    "    model.add(Activation('relu'))\n",
    "    model.add(Conv2D(params[1], (3, 3)))\n",
    "    model.add(Activation('relu'))\n",
    "    model.add(MaxPooling2D(pool_size=(2, 2)))\n",
    "    model.add(Conv2D(params[2], (3, 3)))\n",
    "    model.add(Activation('relu'))\n",
    "    model.add(Conv2D(params[3], (3, 3)))\n",
    "    model.add(Activation('relu'))\n",
    "    model.add(MaxPooling2D(pool_size=(2, 2)))\n",
    "    model.add(Flatten())\n",
    "    model.add(Dense(params[4]))\n",
    "    model.add(Activation('relu'))\n",
    "    model.add(Dropout(0.5))\n",
    "    model.add(Dense(params[5]))\n",
    "    model.add(Activation('relu'))\n",
    "    model.add(Dense(num_classes, activation='softmax'))\n",
    "\n",
    "    if init != None:\n",
    "        model.load_weights(init)\n",
    "\n",
    "    sgd = SGD(lr=0.01, decay=1e-6, momentum=0.9, nesterov=True)\n",
    "    model.compile(loss=keras.losses.categorical_crossentropy,\n",
    "                  optimizer=sgd,\n",
    "                  metrics=['accuracy'])\n",
    "\n",
    "    model.fit(x_train, y_train,\n",
    "              batch_size=batch_size,\n",
    "              validation_data=(x_test, y_test),\n",
    "              epochs=epochs,\n",
    "              shuffle=True)\n",
    "    \n",
    "    model.save(filename) # save entire model\n",
    "    model.save_weights(filename_weights) # save model weight to the filename param in the function  \n",
    "    with open(filename_archi, 'w') as f: # save model architecture\n",
    "        f.write(model.to_json())\n",
    "    return model"
   ]
  },
  {
   "cell_type": "code",
   "execution_count": 26,
   "metadata": {
    "scrolled": true
   },
   "outputs": [
    {
     "name": "stdout",
     "output_type": "stream",
     "text": [
      "Train on 60000 samples, validate on 10000 samples\n",
      "Epoch 1/1\n",
      "60000/60000 [==============================] - 89s 1ms/step - loss: 0.5473 - acc: 0.8195 - val_loss: 0.0750 - val_acc: 0.9764\n"
     ]
    },
    {
     "data": {
      "text/plain": [
       "<keras.engine.sequential.Sequential at 0x13b3dfa58>"
      ]
     },
     "execution_count": 26,
     "metadata": {},
     "output_type": "execute_result"
    }
   ],
   "source": [
    "# train undistilled model by executing the function\n",
    "train(\"models/MNIST/CNN_model.h5\",\n",
    "      \"models/MNIST/CNN_weights.h5\",\n",
    "      \"models/MNIST/CNN_architecture.json\",\n",
    "      params,\n",
    "      epochs=1,\n",
    "      batch_size=128,\n",
    "      train_temp=1)"
   ]
  },
  {
   "cell_type": "code",
   "execution_count": 27,
   "metadata": {},
   "outputs": [
    {
     "name": "stdout",
     "output_type": "stream",
     "text": [
      "Model Accuracy MNIST \n",
      "\n",
      "number of correct predictions:  9764\n",
      "number of incorrect predictions:  236\n",
      "total:  10000\n",
      "Accuracy:  97.64 %\n"
     ]
    }
   ],
   "source": [
    "# calculate accuracy of the models\n",
    "# model loading/reconstruction from JSON file  \n",
    "with open('models/MNIST/CNN_architecture.json', 'r') as f:\n",
    "    model = model_from_json(f.read())  \n",
    "# load weights into the new model\n",
    "model.load_weights('models/MNIST/CNN_weights.h5')\n",
    "\n",
    "# function to get model accuracy scores\n",
    "def eval_model(model):  \n",
    "    global wrong_predictions_num, corr_predictions_num,total_pred\n",
    "    wrong_predictions_num = 0\n",
    "    corr_predictions_num = 0\n",
    "\n",
    "    for n in range(x_test.shape[0]):\n",
    "        # get true label values\n",
    "        label_true = y_test[n].argmax()\n",
    "\n",
    "        # get_prediction\n",
    "        predictions = model.predict(np.reshape(x_test[n],[1,28,28,1]))\n",
    "        predictions_lst = predictions.tolist()[0]\n",
    "        max_value = max(predictions_lst)\n",
    "        predicted = predictions_lst.index(max_value)\n",
    "\n",
    "        # compute percentages\n",
    "        if label_true != predicted:\n",
    "            wrong_predictions_num += 1\n",
    "        elif label_true == label_true:\n",
    "            corr_predictions_num += 1\n",
    "    \n",
    "    # print results\n",
    "    total_pred = corr_predictions_num+wrong_predictions_num # total number of predictions\n",
    "    print('number of correct predictions: ', corr_predictions_num)\n",
    "    print('number of incorrect predictions: ', wrong_predictions_num)\n",
    "    print('total: ', total_pred)\n",
    "    print('Accuracy: ', round(corr_predictions_num/total_pred*100,2),'%')\n",
    "    \n",
    "# get model accuracy scores \n",
    "print('Model Accuracy MNIST \\n')\n",
    "eval_model(model)"
   ]
  },
  {
   "cell_type": "code",
   "execution_count": 28,
   "metadata": {},
   "outputs": [
    {
     "name": "stdout",
     "output_type": "stream",
     "text": [
      "Stored 'mnist_model' (Sequential)\n",
      "Stored 'mnist_xtrain' (ndarray)\n",
      "Stored 'mnist_xtest' (ndarray)\n",
      "Stored 'mnist_ytest' (ndarray)\n",
      "Stored 'mnist_ytrain' (ndarray)\n"
     ]
    }
   ],
   "source": [
    "# store notebook for use in other notobooks\n",
    "mnist_model = model\n",
    "mnist_xtrain = x_train\n",
    "mnist_xtest = x_test\n",
    "mnist_ytest = y_test\n",
    "mnist_ytrain = y_train\n",
    "%store mnist_model\n",
    "%store mnist_xtrain\n",
    "%store mnist_xtest\n",
    "%store mnist_ytest\n",
    "%store mnist_ytrain"
   ]
  }
 ],
 "metadata": {
  "kernelspec": {
   "display_name": "Python 3",
   "language": "python",
   "name": "python3"
  },
  "language_info": {
   "codemirror_mode": {
    "name": "ipython",
    "version": 3
   },
   "file_extension": ".py",
   "mimetype": "text/x-python",
   "name": "python",
   "nbconvert_exporter": "python",
   "pygments_lexer": "ipython3",
   "version": "3.6.10"
  }
 },
 "nbformat": 4,
 "nbformat_minor": 4
}
